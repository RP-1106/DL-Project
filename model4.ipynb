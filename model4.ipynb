{
 "cells": [
  {
   "cell_type": "code",
   "execution_count": 1,
   "id": "c49d453a",
   "metadata": {},
   "outputs": [
    {
     "name": "stderr",
     "output_type": "stream",
     "text": [
      "C:\\Users\\Rhea Pandita\\anaconda3\\lib\\site-packages\\tensorflow_addons\\utils\\tfa_eol_msg.py:23: UserWarning: \n",
      "\n",
      "TensorFlow Addons (TFA) has ended development and introduction of new features.\n",
      "TFA has entered a minimal maintenance and release mode until a planned end of life in May 2024.\n",
      "Please modify downstream libraries to take dependencies from other repositories in our TensorFlow community (e.g. Keras, Keras-CV, and Keras-NLP). \n",
      "\n",
      "For more information see: https://github.com/tensorflow/addons/issues/2807 \n",
      "\n",
      "  warnings.warn(\n"
     ]
    }
   ],
   "source": [
    "import tensorflow as tf\n",
    "from tensorflow.keras.layers import Input, Conv2D, Conv2DTranspose, MaxPooling2D, concatenate, Dropout\n",
    "from tensorflow_addons.layers.normalizations import GroupNormalization as CustomGroupNorm\n"
   ]
  },
  {
   "cell_type": "code",
   "execution_count": 2,
   "id": "f319e574",
   "metadata": {},
   "outputs": [],
   "source": [
    "class UNetMidBlock2DCrossAttn(tf.keras.Model):\n",
    "    def __init__(self, **kwargs):\n",
    "        super(UNetMidBlock2DCrossAttn, self).__init__(**kwargs)\n",
    "\n",
    "        self.conv1 = Conv2D(filters=128, kernel_size=(3, 3), padding='same', activation='relu')\n",
    "        self.conv2 = Conv2D(filters=128, kernel_size=(3, 3), padding='same', activation='relu')\n",
    "        self.dropout = Dropout(0.5)\n",
    "\n",
    "    def call(self, inputs):\n",
    "        x = self.conv1(inputs)\n",
    "        x = self.conv2(x)\n",
    "        x = self.dropout(x)\n",
    "        return x"
   ]
  },
  {
   "cell_type": "code",
   "execution_count": 3,
   "id": "65e10a74",
   "metadata": {},
   "outputs": [],
   "source": [
    "def Code2Model(height, width, start_neurons):\n",
    "    input_layer = Input(shape=(height, width, 3))  # Keep the input shape as (32, 32, 3) for CIFAR-10\n",
    "    \n",
    "    conv1 = Conv2D(filters=start_neurons * 1, kernel_size=(3, 3), padding=\"same\", activation='relu')(input_layer)\n",
    "    conv1 = Conv2D(filters=start_neurons * 1, kernel_size=(3, 3), padding=\"same\", activation='relu')(conv1)\n",
    "    pool1 = MaxPooling2D((2, 2))(conv1)\n",
    "    pool1 = Dropout(0.25)(pool1)\n",
    "\n",
    "    conv2 = Conv2D(filters=start_neurons * 2, kernel_size=(3, 3), padding=\"same\", activation='relu')(pool1)\n",
    "    conv2 = Conv2D(filters=start_neurons * 2, kernel_size=(3, 3), padding=\"same\", activation='relu')(conv2)\n",
    "    pool2 = MaxPooling2D((2, 2))(conv2)\n",
    "    pool2 = Dropout(0.5)(pool2)\n",
    "\n",
    "    conv3 = Conv2D(filters=start_neurons * 4, kernel_size=(3, 3), padding=\"same\", activation='relu')(pool2)\n",
    "    conv3 = Conv2D(filters=start_neurons * 4, kernel_size=(3, 3), padding=\"same\", activation='relu')(conv3)\n",
    "    pool3 = MaxPooling2D((2, 2))(conv3)\n",
    "    pool3 = Dropout(0.5)(pool3)\n",
    "\n",
    "    conv4 = Conv2D(filters=start_neurons * 8, kernel_size=(3, 3), padding=\"same\", activation='relu')(pool3)\n",
    "    conv4 = Conv2D(filters=start_neurons * 8, kernel_size=(3, 3), padding=\"same\", activation='relu')(conv4)\n",
    "    pool4 = MaxPooling2D((2, 2))(conv4)\n",
    "    pool4 = Dropout(0.5)(pool4)\n",
    "\n",
    "    convm = Conv2D(filters=start_neurons * 16, kernel_size=(3, 3), padding=\"same\", activation='relu')(pool4)\n",
    "    convm = Conv2D(filters=start_neurons * 16, kernel_size=(3, 3), padding=\"same\", activation='relu')(convm)\n",
    "    convm = UNetMidBlock2DCrossAttn()(convm)\n",
    "\n",
    "    deconv4 = Conv2DTranspose(start_neurons * 8, (3, 3), strides=(2, 2), padding=\"same\")(convm)\n",
    "    uconv4 = concatenate([deconv4, conv4])\n",
    "    uconv4 = Dropout(0.5)(uconv4)\n",
    "    uconv4 = Conv2D(filters=start_neurons * 8, kernel_size=(3, 3), padding=\"same\", activation='relu')(uconv4)\n",
    "    uconv4 = Conv2D(filters=start_neurons * 8, kernel_size=(3, 3), padding=\"same\", activation='relu')(uconv4)\n",
    "\n",
    "    deconv3 = Conv2DTranspose(start_neurons * 4, (3, 3), strides=(2, 2), padding=\"same\")(uconv4)\n",
    "    uconv3 = concatenate([deconv3, conv3])\n",
    "    uconv3 = Dropout(0.5)(uconv3)\n",
    "    uconv3 = Conv2D(filters=start_neurons * 4, kernel_size=(3, 3), padding=\"same\", activation='relu')(uconv3)\n",
    "    uconv3 = Conv2D(filters=start_neurons * 4, kernel_size=(3, 3), padding=\"same\", activation='relu')(uconv3)\n",
    "\n",
    "    deconv2 = Conv2DTranspose(start_neurons * 2, (3, 3), strides=(2, 2), padding=\"same\")(uconv3)\n",
    "    uconv2 = concatenate([deconv2, conv2])\n",
    "    uconv2 = Dropout(0.5)(uconv2)\n",
    "    uconv2 = Conv2D(filters=start_neurons * 2, kernel_size=(3, 3), padding=\"same\", activation='relu')(uconv2)\n",
    "    uconv2 = Conv2D(filters=start_neurons * 2, kernel_size=(3, 3), padding=\"same\", activation='relu')(uconv2)\n",
    "\n",
    "    deconv1 = Conv2DTranspose(start_neurons * 1, (3, 3), strides=(2, 2), padding=\"same\")(uconv2)\n",
    "    uconv1 = concatenate([deconv1, conv1])\n",
    "    uconv1 = Dropout(0.5)(uconv1)\n",
    "    uconv1 = Conv2D(filters=start_neurons * 1, kernel_size=(3, 3), padding=\"same\", activation='relu')(uconv1)\n",
    "    uconv1 = Conv2D(filters=start_neurons * 1, kernel_size=(3, 3), padding=\"same\", activation='relu')(uconv1)\n",
    "\n",
    "    group_norm = CustomGroupNorm(groups=16, axis=-1)\n",
    "    uconv1 = group_norm(uconv1)\n",
    "\n",
    "    uconv1 = Dropout(0.5)(uconv1)\n",
    "    uconv1 = Conv2D(4, (1, 1), padding=\"same\", activation='relu')(uconv1)\n",
    "    output_layer = Conv2D(1, (1, 1), padding=\"same\", activation='sigmoid')(uconv1)\n",
    "\n",
    "    return tf.keras.Model(inputs=input_layer, outputs=output_layer)  # Return a Keras Model\n"
   ]
  },
  {
   "cell_type": "code",
   "execution_count": null,
   "id": "989462c2",
   "metadata": {},
   "outputs": [],
   "source": []
  },
  {
   "cell_type": "code",
   "execution_count": null,
   "id": "e3dacd47",
   "metadata": {},
   "outputs": [],
   "source": []
  }
 ],
 "metadata": {
  "kernelspec": {
   "display_name": "Python 3 (ipykernel)",
   "language": "python",
   "name": "python3"
  },
  "language_info": {
   "codemirror_mode": {
    "name": "ipython",
    "version": 3
   },
   "file_extension": ".py",
   "mimetype": "text/x-python",
   "name": "python",
   "nbconvert_exporter": "python",
   "pygments_lexer": "ipython3",
   "version": "3.10.9"
  }
 },
 "nbformat": 4,
 "nbformat_minor": 5
}
